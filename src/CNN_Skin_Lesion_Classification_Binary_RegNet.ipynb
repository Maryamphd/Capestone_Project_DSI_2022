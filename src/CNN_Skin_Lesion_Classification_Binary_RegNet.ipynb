{
  "cells": [
    {
      "cell_type": "markdown",
      "metadata": {
        "id": "gwMgH8nxNAmd"
      },
      "source": [
        "## Setup"
      ]
    },
    {
      "cell_type": "code",
      "execution_count": 1,
      "metadata": {
        "colab": {
          "base_uri": "https://localhost:8080/"
        },
        "id": "KiWYftw6vsBn",
        "outputId": "be36e371-9b29-4f3c-e652-e52bdc57d506"
      },
      "outputs": [
        {
          "output_type": "stream",
          "name": "stdout",
          "text": [
            "Mounted at /content/drive\n"
          ]
        }
      ],
      "source": [
        "from google.colab import drive\n",
        "drive.mount('/content/drive')"
      ]
    },
    {
      "cell_type": "code",
      "source": [
        "#!pip install flask-ngrok"
      ],
      "metadata": {
        "colab": {
          "base_uri": "https://localhost:8080/"
        },
        "id": "WZfzus4Gl8tY",
        "outputId": "76472ae3-4efe-46d0-b61d-502c519f8bb1"
      },
      "execution_count": 96,
      "outputs": [
        {
          "output_type": "stream",
          "name": "stdout",
          "text": [
            "Looking in indexes: https://pypi.org/simple, https://us-python.pkg.dev/colab-wheels/public/simple/\n",
            "Collecting flask-ngrok\n",
            "  Downloading flask_ngrok-0.0.25-py3-none-any.whl (3.1 kB)\n",
            "Requirement already satisfied: Flask>=0.8 in /usr/local/lib/python3.8/dist-packages (from flask-ngrok) (1.1.4)\n",
            "Requirement already satisfied: requests in /usr/local/lib/python3.8/dist-packages (from flask-ngrok) (2.23.0)\n",
            "Requirement already satisfied: click<8.0,>=5.1 in /usr/local/lib/python3.8/dist-packages (from Flask>=0.8->flask-ngrok) (7.1.2)\n",
            "Requirement already satisfied: itsdangerous<2.0,>=0.24 in /usr/local/lib/python3.8/dist-packages (from Flask>=0.8->flask-ngrok) (1.1.0)\n",
            "Requirement already satisfied: Werkzeug<2.0,>=0.15 in /usr/local/lib/python3.8/dist-packages (from Flask>=0.8->flask-ngrok) (1.0.1)\n",
            "Requirement already satisfied: Jinja2<3.0,>=2.10.1 in /usr/local/lib/python3.8/dist-packages (from Flask>=0.8->flask-ngrok) (2.11.3)\n",
            "Requirement already satisfied: MarkupSafe>=0.23 in /usr/local/lib/python3.8/dist-packages (from Jinja2<3.0,>=2.10.1->Flask>=0.8->flask-ngrok) (2.0.1)\n",
            "Requirement already satisfied: certifi>=2017.4.17 in /usr/local/lib/python3.8/dist-packages (from requests->flask-ngrok) (2022.9.24)\n",
            "Requirement already satisfied: chardet<4,>=3.0.2 in /usr/local/lib/python3.8/dist-packages (from requests->flask-ngrok) (3.0.4)\n",
            "Requirement already satisfied: idna<3,>=2.5 in /usr/local/lib/python3.8/dist-packages (from requests->flask-ngrok) (2.10)\n",
            "Requirement already satisfied: urllib3!=1.25.0,!=1.25.1,<1.26,>=1.21.1 in /usr/local/lib/python3.8/dist-packages (from requests->flask-ngrok) (1.24.3)\n",
            "Installing collected packages: flask-ngrok\n",
            "Successfully installed flask-ngrok-0.0.25\n"
          ]
        }
      ]
    },
    {
      "cell_type": "code",
      "execution_count": 2,
      "metadata": {
        "id": "3oNhNNF5JToc"
      },
      "outputs": [],
      "source": [
        "from numpy.random import seed\n",
        "seed(1)\n",
        "import matplotlib.pyplot as plt\n",
        "import numpy as np\n",
        "import pandas as pd\n",
        "import os\n",
        "from glob import glob\n",
        "import seaborn as sns\n",
        "from PIL import Image\n",
        "from sklearn.preprocessing import label_binarize\n",
        "from sklearn.model_selection import GridSearchCV\n",
        "from sklearn.model_selection import train_test_split\n",
        "from sklearn.metrics import f1_score\n",
        "from sklearn.utils import resample\n",
        "import itertools\n",
        "import tensorflow as tf\n",
        "from keras.preprocessing import image\n",
        "\n",
        "import keras\n",
        "from keras.applications import ResNet50\n",
        "from keras.models import Sequential, Model,load_model\n",
        "from keras.layers import Activation,Dense, Dropout, Flatten, Conv2D, MaxPool2D,AveragePooling2D,GlobalMaxPooling2D\n",
        "from keras import backend as K\n",
        "from keras.wrappers.scikit_learn import KerasClassifier\n",
        "\n",
        "from keras.utils.np_utils import to_categorical # convert to one-hot-encoding\n",
        "from keras import regularizers\n",
        "from keras.optimizers import Adam, SGD\n",
        "from keras.preprocessing.image import ImageDataGenerator\n",
        "from keras.callbacks import ReduceLROnPlateau, EarlyStopping,ModelCheckpoint\n",
        "from sklearn.metrics import classification_report,confusion_matrix\n",
        "import matplotlib.pyplot as plt\n",
        "import matplotlib.image as mpimg\n",
        "np.random.seed(123)"
      ]
    },
    {
      "cell_type": "markdown",
      "metadata": {
        "id": "HDOZiP_ZNE5a"
      },
      "source": [
        "## CNN Model"
      ]
    },
    {
      "cell_type": "code",
      "execution_count": 4,
      "metadata": {
        "id": "MMO7TSGkK5sP"
      },
      "outputs": [],
      "source": [
        "lesion_type_dict = {\n",
        "    'Beng': 'Benign',\n",
        "    'mel': 'Malignant',\n",
        "}\n",
        "\n",
        "#Dictionary for Image Names\n",
        "imageid_path_dict = {os.path.splitext(os.path.basename(x))[0]: x\n",
        " for x in glob(os.path.join('/content/drive/MyDrive/SkinLesion_Two_Classes/', '*', '*.jpg'))}\n",
        "#for x in glob(os.path.join('/mnt/g/My Drive/SkinLesion_7_Classes/', '*', '*.jpg'))}"
      ]
    },
    {
      "cell_type": "code",
      "source": [
        "len(imageid_path_dict)"
      ],
      "metadata": {
        "colab": {
          "base_uri": "https://localhost:8080/"
        },
        "id": "Jb59Pz6WOt5c",
        "outputId": "c6c10d32-7a8c-4a06-a997-c48d4111ce3c"
      },
      "execution_count": 125,
      "outputs": [
        {
          "output_type": "execute_result",
          "data": {
            "text/plain": [
              "11614"
            ]
          },
          "metadata": {},
          "execution_count": 125
        }
      ]
    },
    {
      "cell_type": "code",
      "execution_count": 5,
      "metadata": {
        "id": "8l4ec2qikn5t"
      },
      "outputs": [],
      "source": [
        "#Load HAM10000 data\n",
        "skin_df=pd.read_csv('/content/drive/MyDrive/HAM10000_metadataBinary.csv')"
      ]
    },
    {
      "cell_type": "code",
      "execution_count": 6,
      "metadata": {
        "id": "Ny8dYemlkt-f"
      },
      "outputs": [],
      "source": [
        "#Create useful Columns - Images Path, Lesion Type and Lesion Categorical Code\n",
        "skin_df['path'] = skin_df['image_id'].map(imageid_path_dict.get)\n",
        "skin_df['cell_type'] = skin_df['dx'].map(lesion_type_dict.get) \n",
        "skin_df['cell_type_idx'] = pd.Categorical(skin_df['cell_type']).codes\n"
      ]
    },
    {
      "cell_type": "code",
      "source": [
        "#To balanced the data I add Malignant cases fro old ISIC challange and reduced from Benign cases so I remove the nan value fro the path of images\n",
        "df =skin_df[skin_df['path'].notna()]"
      ],
      "metadata": {
        "id": "zond1sugZZTN"
      },
      "execution_count": 7,
      "outputs": []
    },
    {
      "cell_type": "code",
      "execution_count": 8,
      "metadata": {
        "id": "JThi9lRPvfih",
        "colab": {
          "base_uri": "https://localhost:8080/"
        },
        "outputId": "e1eacd64-7e59-4aff-e455-c02b5635d68b"
      },
      "outputs": [
        {
          "output_type": "stream",
          "name": "stderr",
          "text": [
            "<ipython-input-8-1ee31950f10e>:2: SettingWithCopyWarning: \n",
            "A value is trying to be set on a copy of a slice from a DataFrame.\n",
            "Try using .loc[row_indexer,col_indexer] = value instead\n",
            "\n",
            "See the caveats in the documentation: https://pandas.pydata.org/pandas-docs/stable/user_guide/indexing.html#returning-a-view-versus-a-copy\n",
            "  df['image'] = df['path'].map(lambda x: np.asarray(Image.open(x).resize((112,112))))\n"
          ]
        }
      ],
      "source": [
        "#img['image'] = img['path'].map(lambda x: np.asarray(Image.open(x).resize((112,112))))\n",
        "df['image'] = df['path'].map(lambda x: np.asarray(Image.open(x).resize((112,112))))"
      ]
    },
    {
      "cell_type": "code",
      "execution_count": 9,
      "metadata": {
        "id": "7z3TR2zBucim"
      },
      "outputs": [],
      "source": [
        "features=df.drop(columns=['cell_type_idx'],axis=1)\n",
        "target=df['cell_type_idx']"
      ]
    },
    {
      "cell_type": "code",
      "execution_count": 10,
      "metadata": {
        "id": "81W4PN0wLVik"
      },
      "outputs": [],
      "source": [
        "# Create First Train and Test sets\n",
        "x_train_o, x_test_o, y_train_o, y_test_o = train_test_split(features, target, test_size=0.20,random_state=123)\n",
        "\n",
        "#Splitting training into Train and Validatation sets\n",
        "x_train, x_validate, y_train, y_validate = train_test_split(x_train_o, y_train_o, test_size = 0.1,random_state=123)\n"
      ]
    },
    {
      "cell_type": "code",
      "source": [
        "# Balanced Tran Data\n",
        "#x_train['cell_type_idx']=y_train\n"
      ],
      "metadata": {
        "id": "9InVfjEclBK7"
      },
      "execution_count": 11,
      "outputs": []
    },
    {
      "cell_type": "code",
      "source": [
        "#df_0 = x_train[x_train['cell_type_idx'] == 0]\n",
        "#df_1 = x_train[x_train['cell_type_idx'] == 1]\n",
        "\n",
        "#n_samples=5000 \n",
        "#df_0_balanced = resample(df_0, replace=True, n_samples=n_samples, random_state=42) \n",
        "#df_1_balanced = resample(df_1, replace=True, n_samples=n_samples, random_state=42) \n"
      ],
      "metadata": {
        "id": "XfdW73mVmrDy"
      },
      "execution_count": 12,
      "outputs": []
    },
    {
      "cell_type": "code",
      "source": [
        "\n",
        "#Combined back to a single dataframe\n",
        "#x_train = pd.concat([df_0_balanced, df_1_balanced])\n",
        "\n",
        "#Check the data distribution\n",
        "#print(x_train['cell_type_idx'].value_counts())\n"
      ],
      "metadata": {
        "id": "KOxLcVkJev4_"
      },
      "execution_count": 13,
      "outputs": []
    },
    {
      "cell_type": "code",
      "source": [
        "#y_train_o=x_train['cell_type_idx']\n",
        "#x_train_o=x_train.drop(columns=['cell_type_idx'],axis=1)"
      ],
      "metadata": {
        "id": "MS56jMRY2EvY"
      },
      "execution_count": 14,
      "outputs": []
    },
    {
      "cell_type": "code",
      "source": [
        "#The normalisation is done using the training set Mean and Std. Deviation as reference\n",
        "x_train = np.asarray(x_train['image'].tolist())\n",
        "x_test = np.asarray(x_test_o['image'].tolist())\n",
        "x_validate=np.asarray(x_validate['image'].tolist())\n",
        "\n",
        "x_train_mean = np.mean(x_train)\n",
        "x_train_std = np.std(x_train)\n",
        "\n",
        "x_train = (x_train - x_train_mean)/x_train_std\n",
        "x_test = (x_test - x_train_mean)/x_train_std\n",
        "x_validate= (x_validate - x_train_mean)/x_train_std\n",
        "\n",
        "# Perform one-hot encoding on the labels\n",
        "y_train = to_categorical(y_train, num_classes = 2)\n",
        "y_test = to_categorical(y_test_o, num_classes = 2)\n",
        "y_validate= to_categorical(y_validate, num_classes = 2)\n",
        "\n",
        "#Reshaping the Images into 3 channels (RGB)\n",
        "x_train = x_train.reshape(x_train.shape[0], *(112, 112, 3))\n",
        "x_test = x_test.reshape(x_test.shape[0], *(112, 112, 3))\n",
        "x_validate = x_validate.reshape(x_validate.shape[0], *(112, 112, 3))"
      ],
      "metadata": {
        "id": "IMwj3IdV1xRW"
      },
      "execution_count": 15,
      "outputs": []
    },
    {
      "cell_type": "code",
      "execution_count": 16,
      "metadata": {
        "id": "8gOmwfKnLbRT"
      },
      "outputs": [],
      "source": [
        "# Define some parametersfor the Model\n",
        "size=(112,112)\n",
        "num_classes = 2\n",
        "optimizer = Adam(learning_rate=0.001, beta_1=0.9, beta_2=0.999, epsilon=None, decay=0.0, amsgrad=False)\n",
        "epochs = 50\n",
        "batch_size = 32\n",
        "learning_rate_reduction = ReduceLROnPlateau(monitor='val_accuracy', patience=5, verbose=0, factor=0.5, min_lr=0.00001)\n",
        "early_stopping_monitor = EarlyStopping(patience=20,monitor='val_accuracy')"
      ]
    },
    {
      "cell_type": "code",
      "execution_count": 17,
      "metadata": {
        "id": "EnIfXeSIvfin"
      },
      "outputs": [],
      "source": [
        "model_checkpoint_callback = ModelCheckpoint(filepath='/content/drive/MyDrive/model_regnet_Binary_balanced_new_drop5.h5',\n",
        "                                            save_weights_only=False,\n",
        "                                            monitor='val_accuracy',\n",
        "                                            mode='auto',\n",
        "                                            save_best_only=True,\n",
        "                                            verbose=1)"
      ]
    },
    {
      "cell_type": "code",
      "execution_count": 18,
      "metadata": {
        "id": "LbmvIrP2LeOD"
      },
      "outputs": [],
      "source": [
        "#Data Augmentation\n",
        "dataaugment = ImageDataGenerator(\n",
        "        featurewise_center=False,  # set input mean to 0 over the dataset\n",
        "        samplewise_center=False,  # set each sample mean to 0\n",
        "        featurewise_std_normalization=False,  # divide inputs by std of the dataset\n",
        "        samplewise_std_normalization=False,  # divide each input by its std\n",
        "        zca_whitening=False,  # apply ZCA whitening\n",
        "        rotation_range=90,  # randomly rotate images in the range (degrees, 0 to 180)\n",
        "        zoom_range = 0.1, # Randomly zoom image \n",
        "        horizontal_flip=True,  # randomly flip images\n",
        "        vertical_flip=True,  # randomly flip images\n",
        "        ) "
      ]
    },
    {
      "cell_type": "code",
      "execution_count": 19,
      "metadata": {
        "id": "JNv7lpLdvfip",
        "colab": {
          "base_uri": "https://localhost:8080/"
        },
        "outputId": "efcb67ca-2e57-4f98-89e3-22ce92c5e9a0"
      },
      "outputs": [
        {
          "output_type": "stream",
          "name": "stdout",
          "text": [
            "Downloading data from https://storage.googleapis.com/tensorflow/keras-applications/regnet/regnetx032_notop.h5\n",
            "58216992/58216992 [==============================] - 4s 0us/step\n"
          ]
        }
      ],
      "source": [
        "base_model = tf.keras.applications.RegNetX032(include_top=False, input_shape=(112,112, 3),pooling = 'avg', weights = 'imagenet')"
      ]
    },
    {
      "cell_type": "code",
      "execution_count": 20,
      "metadata": {
        "id": "GmMvdbXgvfiq"
      },
      "outputs": [],
      "source": [
        "RegNetX032model = Sequential()\n",
        "RegNetX032model.add(base_model)\n",
        "RegNetX032model.add(Dropout(0.5))\n",
        "RegNetX032model.add(Dense(num_classes, activation = 'softmax'))"
      ]
    },
    {
      "cell_type": "code",
      "execution_count": 23,
      "metadata": {
        "id": "ZCzwUWWavfiq",
        "colab": {
          "base_uri": "https://localhost:8080/"
        },
        "outputId": "136c8248-d2b1-450a-eed9-ac6e8f5a876f"
      },
      "outputs": [
        {
          "output_type": "stream",
          "name": "stdout",
          "text": [
            "\n",
            "Epoch 1: val_accuracy improved from -inf to 0.84624, saving model to /content/drive/MyDrive/model_regnet_Binary_balanced_new_dropout.h5\n",
            "\n",
            "Epoch 2: val_accuracy did not improve from 0.84624\n",
            "\n",
            "Epoch 3: val_accuracy did not improve from 0.84624\n",
            "\n",
            "Epoch 4: val_accuracy improved from 0.84624 to 0.86129, saving model to /content/drive/MyDrive/model_regnet_Binary_balanced_new_dropout.h5\n",
            "\n",
            "Epoch 5: val_accuracy did not improve from 0.86129\n",
            "\n",
            "Epoch 6: val_accuracy did not improve from 0.86129\n",
            "\n",
            "Epoch 7: val_accuracy did not improve from 0.86129\n",
            "\n",
            "Epoch 8: val_accuracy did not improve from 0.86129\n",
            "\n",
            "Epoch 9: val_accuracy did not improve from 0.86129\n",
            "\n",
            "Epoch 10: val_accuracy improved from 0.86129 to 0.86667, saving model to /content/drive/MyDrive/model_regnet_Binary_balanced_new_dropout.h5\n",
            "\n",
            "Epoch 11: val_accuracy improved from 0.86667 to 0.87849, saving model to /content/drive/MyDrive/model_regnet_Binary_balanced_new_dropout.h5\n",
            "\n",
            "Epoch 12: val_accuracy improved from 0.87849 to 0.87957, saving model to /content/drive/MyDrive/model_regnet_Binary_balanced_new_dropout.h5\n",
            "\n",
            "Epoch 13: val_accuracy did not improve from 0.87957\n",
            "\n",
            "Epoch 14: val_accuracy improved from 0.87957 to 0.88065, saving model to /content/drive/MyDrive/model_regnet_Binary_balanced_new_dropout.h5\n",
            "\n",
            "Epoch 15: val_accuracy did not improve from 0.88065\n",
            "\n",
            "Epoch 16: val_accuracy did not improve from 0.88065\n",
            "\n",
            "Epoch 17: val_accuracy improved from 0.88065 to 0.88280, saving model to /content/drive/MyDrive/model_regnet_Binary_balanced_new_dropout.h5\n",
            "\n",
            "Epoch 18: val_accuracy did not improve from 0.88280\n",
            "\n",
            "Epoch 19: val_accuracy improved from 0.88280 to 0.88925, saving model to /content/drive/MyDrive/model_regnet_Binary_balanced_new_dropout.h5\n",
            "\n",
            "Epoch 20: val_accuracy did not improve from 0.88925\n",
            "\n",
            "Epoch 21: val_accuracy did not improve from 0.88925\n",
            "\n",
            "Epoch 22: val_accuracy improved from 0.88925 to 0.89892, saving model to /content/drive/MyDrive/model_regnet_Binary_balanced_new_dropout.h5\n",
            "\n",
            "Epoch 23: val_accuracy did not improve from 0.89892\n",
            "\n",
            "Epoch 24: val_accuracy did not improve from 0.89892\n",
            "\n",
            "Epoch 25: val_accuracy did not improve from 0.89892\n",
            "\n",
            "Epoch 26: val_accuracy did not improve from 0.89892\n",
            "\n",
            "Epoch 27: val_accuracy did not improve from 0.89892\n",
            "\n",
            "Epoch 28: val_accuracy did not improve from 0.89892\n",
            "\n",
            "Epoch 29: val_accuracy improved from 0.89892 to 0.90645, saving model to /content/drive/MyDrive/model_regnet_Binary_balanced_new_dropout.h5\n",
            "\n",
            "Epoch 30: val_accuracy did not improve from 0.90645\n",
            "\n",
            "Epoch 31: val_accuracy improved from 0.90645 to 0.91290, saving model to /content/drive/MyDrive/model_regnet_Binary_balanced_new_dropout.h5\n",
            "\n",
            "Epoch 32: val_accuracy did not improve from 0.91290\n",
            "\n",
            "Epoch 33: val_accuracy did not improve from 0.91290\n",
            "\n",
            "Epoch 34: val_accuracy improved from 0.91290 to 0.91398, saving model to /content/drive/MyDrive/model_regnet_Binary_balanced_new_dropout.h5\n",
            "\n",
            "Epoch 35: val_accuracy did not improve from 0.91398\n",
            "\n",
            "Epoch 36: val_accuracy did not improve from 0.91398\n",
            "\n",
            "Epoch 37: val_accuracy did not improve from 0.91398\n",
            "\n",
            "Epoch 38: val_accuracy did not improve from 0.91398\n",
            "\n",
            "Epoch 39: val_accuracy did not improve from 0.91398\n",
            "\n",
            "Epoch 40: val_accuracy improved from 0.91398 to 0.91720, saving model to /content/drive/MyDrive/model_regnet_Binary_balanced_new_dropout.h5\n",
            "\n",
            "Epoch 41: val_accuracy improved from 0.91720 to 0.91828, saving model to /content/drive/MyDrive/model_regnet_Binary_balanced_new_dropout.h5\n",
            "\n",
            "Epoch 42: val_accuracy improved from 0.91828 to 0.91935, saving model to /content/drive/MyDrive/model_regnet_Binary_balanced_new_dropout.h5\n",
            "\n",
            "Epoch 43: val_accuracy improved from 0.91935 to 0.93011, saving model to /content/drive/MyDrive/model_regnet_Binary_balanced_new_dropout.h5\n",
            "\n",
            "Epoch 44: val_accuracy did not improve from 0.93011\n",
            "\n",
            "Epoch 45: val_accuracy did not improve from 0.93011\n",
            "\n",
            "Epoch 46: val_accuracy did not improve from 0.93011\n",
            "\n",
            "Epoch 47: val_accuracy did not improve from 0.93011\n",
            "\n",
            "Epoch 48: val_accuracy did not improve from 0.93011\n",
            "\n",
            "Epoch 49: val_accuracy improved from 0.93011 to 0.93226, saving model to /content/drive/MyDrive/model_regnet_Binary_balanced_new_dropout.h5\n",
            "\n",
            "Epoch 50: val_accuracy did not improve from 0.93226\n"
          ]
        }
      ],
      "source": [
        "\n",
        "RegNetX032model.compile(optimizer = optimizer , loss = \"categorical_crossentropy\", metrics=[\"accuracy\"])\n",
        "history = RegNetX032model.fit(dataaugment.flow(x_train,y_train, batch_size=batch_size),\n",
        "                        epochs = epochs, validation_data = (x_validate,y_validate),\n",
        "                        verbose = 0, steps_per_epoch=x_train.shape[0] // batch_size, \n",
        "                        callbacks=[learning_rate_reduction,early_stopping_monitor,model_checkpoint_callback])"
      ]
    },
    {
      "cell_type": "code",
      "execution_count": 24,
      "metadata": {
        "id": "cFf65wTzp414",
        "colab": {
          "base_uri": "https://localhost:8080/",
          "height": 295
        },
        "outputId": "67e09ec4-8efa-4aaf-c8fa-447a9cb5fe1a"
      },
      "outputs": [
        {
          "output_type": "display_data",
          "data": {
            "text/plain": [
              "<Figure size 432x288 with 1 Axes>"
            ],
            "image/png": "[encoded data removed]"
          },
          "metadata": {
            "needs_background": "light"
          }
        }
      ],
      "source": [
        "plt.plot(history.history['accuracy'])\n",
        "plt.plot(history.history['val_accuracy'])\n",
        "plt.title('model accuracy')\n",
        "plt.ylabel('accuracy')\n",
        "plt.xlabel('epoch')\n",
        "plt.legend(['train', 'val'], loc='upper left')\n",
        "plt.show()"
      ]
    },
    {
      "cell_type": "code",
      "execution_count": 25,
      "metadata": {
        "id": "3zxkwDFkvfir",
        "colab": {
          "base_uri": "https://localhost:8080/",
          "height": 295
        },
        "outputId": "ad1a97ff-8479-40e2-fa35-0c4402e2bc3c"
      },
      "outputs": [
        {
          "output_type": "display_data",
          "data": {
            "text/plain": [
              "<Figure size 432x288 with 1 Axes>"
            ],
            "image/png": "[encoded data removed]"
          },
          "metadata": {
            "needs_background": "light"
          }
        }
      ],
      "source": [
        "plt.plot(history.history['loss'])\n",
        "plt.plot(history.history['val_loss'])\n",
        "plt.title('model loss')\n",
        "plt.ylabel('loss')\n",
        "plt.xlabel('epoch')\n",
        "plt.legend(['train', 'val'], loc='upper left')\n",
        "plt.show()"
      ]
    },
    {
      "cell_type": "code",
      "execution_count": 26,
      "metadata": {
        "id": "L5nCxZpgvfir",
        "colab": {
          "base_uri": "https://localhost:8080/"
        },
        "outputId": "bc30cb64-5cf5-457b-bba9-28641b095650"
      },
      "outputs": [
        {
          "output_type": "stream",
          "name": "stdout",
          "text": [
            "73/73 [==============================] - 4s 36ms/step\n"
          ]
        }
      ],
      "source": [
        "#Building a report \n",
        "predictions = (RegNetX032model.predict(x_test) > 0.5).astype(\"int32\")"
      ]
    },
    {
      "cell_type": "code",
      "execution_count": 27,
      "metadata": {
        "id": "3uMKnaXeVljs",
        "colab": {
          "base_uri": "https://localhost:8080/"
        },
        "outputId": "8915c6ee-504e-4640-b5a6-fc44b9a6a8da"
      },
      "outputs": [
        {
          "output_type": "stream",
          "name": "stdout",
          "text": [
            "262/262 [==============================] - 10s 39ms/step\n"
          ]
        }
      ],
      "source": [
        "predictions_train = (RegNetX032model.predict(x_train) > 0.5).astype(\"int32\")"
      ]
    },
    {
      "cell_type": "code",
      "execution_count": 28,
      "metadata": {
        "id": "qJLw4j7vWRsz",
        "colab": {
          "base_uri": "https://localhost:8080/"
        },
        "outputId": "c38e9744-8647-4719-e852-1ca4ead50cc2"
      },
      "outputs": [
        {
          "output_type": "stream",
          "name": "stdout",
          "text": [
            "30/30 [==============================] - 1s 36ms/step\n"
          ]
        }
      ],
      "source": [
        "predictions_validate = (RegNetX032model.predict(x_validate) > 0.5).astype(\"int32\")"
      ]
    },
    {
      "cell_type": "code",
      "execution_count": 30,
      "metadata": {
        "id": "Xk_-z5FiQlsc",
        "colab": {
          "base_uri": "https://localhost:8080/"
        },
        "outputId": "d89656ee-3be7-46f0-f917-d7bfb7ba4d46"
      },
      "outputs": [
        {
          "output_type": "stream",
          "name": "stdout",
          "text": [
            "              precision    recall  f1-score   support\n",
            "\n",
            "      Benign     0.9488    0.9048    0.9263      1229\n",
            "   Malignant     0.8983    0.9452    0.9212      1094\n",
            "\n",
            "   micro avg     0.9238    0.9238    0.9238      2323\n",
            "   macro avg     0.9236    0.9250    0.9237      2323\n",
            "weighted avg     0.9250    0.9238    0.9239      2323\n",
            " samples avg     0.9238    0.9238    0.9238      2323\n",
            "\n"
          ]
        }
      ],
      "source": [
        "print(classification_report(y_test, predictions, target_names=['Benign','Malignant'],digits=4  ))\n"
      ]
    },
    {
      "cell_type": "code",
      "execution_count": 31,
      "metadata": {
        "id": "QCzNEMAbVvIK",
        "colab": {
          "base_uri": "https://localhost:8080/"
        },
        "outputId": "18399a6e-48f1-4b61-bec4-80fc01a4c382"
      },
      "outputs": [
        {
          "output_type": "stream",
          "name": "stdout",
          "text": [
            "              precision    recall  f1-score   support\n",
            "\n",
            "      Benign     0.9920    0.9799    0.9859      4284\n",
            "   Malignant     0.9792    0.9917    0.9854      4077\n",
            "\n",
            "   micro avg     0.9856    0.9856    0.9856      8361\n",
            "   macro avg     0.9856    0.9858    0.9856      8361\n",
            "weighted avg     0.9857    0.9856    0.9856      8361\n",
            " samples avg     0.9856    0.9856    0.9856      8361\n",
            "\n"
          ]
        }
      ],
      "source": [
        "print(classification_report(y_train, predictions_train, target_names=['Benign','Malignant'], digits=4 ))"
      ]
    },
    {
      "cell_type": "code",
      "execution_count": 32,
      "metadata": {
        "id": "8QkhEvznWeMD",
        "colab": {
          "base_uri": "https://localhost:8080/"
        },
        "outputId": "07b012d4-3242-4251-bdf3-5ede8d0e9ef3"
      },
      "outputs": [
        {
          "output_type": "stream",
          "name": "stdout",
          "text": [
            "              precision    recall  f1-score   support\n",
            "\n",
            "      Benign     0.9500    0.8970    0.9227       466\n",
            "   Malignant     0.9020    0.9526    0.9266       464\n",
            "\n",
            "   micro avg     0.9247    0.9247    0.9247       930\n",
            "   macro avg     0.9260    0.9248    0.9247       930\n",
            "weighted avg     0.9261    0.9247    0.9247       930\n",
            " samples avg     0.9247    0.9247    0.9247       930\n",
            "\n"
          ]
        }
      ],
      "source": [
        "print(classification_report(y_validate, predictions_validate, target_names=['Benign','Malignant'],digits=4 ))"
      ]
    },
    {
      "cell_type": "code",
      "execution_count": 33,
      "metadata": {
        "id": "jjF4oAtyvfis",
        "colab": {
          "base_uri": "https://localhost:8080/"
        },
        "outputId": "be322f02-2a71-4b6b-f8bf-e521a6c4f7a1"
      },
      "outputs": [
        {
          "output_type": "stream",
          "name": "stdout",
          "text": [
            "[[1112  117]\n",
            " [  60 1034]]\n"
          ]
        }
      ],
      "source": [
        "print(confusion_matrix(y_test.argmax(axis=1), predictions.argmax(axis=1)))"
      ]
    },
    {
      "cell_type": "code",
      "execution_count": 34,
      "metadata": {
        "id": "WQ6xbajGWBC2",
        "colab": {
          "base_uri": "https://localhost:8080/"
        },
        "outputId": "90dd974f-7f1f-4ed7-9db8-d882202c3889"
      },
      "outputs": [
        {
          "output_type": "stream",
          "name": "stdout",
          "text": [
            "[[4198   86]\n",
            " [  34 4043]]\n"
          ]
        }
      ],
      "source": [
        "print(confusion_matrix(y_train.argmax(axis=1), predictions_train.argmax(axis=1)))"
      ]
    },
    {
      "cell_type": "code",
      "execution_count": 35,
      "metadata": {
        "id": "2luUwwRnW2pT",
        "colab": {
          "base_uri": "https://localhost:8080/"
        },
        "outputId": "4136f886-b12e-4b7b-dd63-17200e688947"
      },
      "outputs": [
        {
          "output_type": "stream",
          "name": "stdout",
          "text": [
            "[[418  48]\n",
            " [ 22 442]]\n"
          ]
        }
      ],
      "source": [
        "print(confusion_matrix(y_validate.argmax(axis=1), predictions_validate.argmax(axis=1)))"
      ]
    },
    {
      "cell_type": "code",
      "source": [
        "#best_model = load_model('/content/drive/MyDrive/model_regnet.h5')"
      ],
      "metadata": {
        "id": "-pQUAtf9BVvT"
      },
      "execution_count": 36,
      "outputs": []
    }
  ],
  "metadata": {
    "accelerator": "GPU",
    "colab": {
      "machine_shape": "hm",
      "provenance": []
    },
    "gpuClass": "standard",
    "kernelspec": {
      "display_name": "base",
      "language": "python",
      "name": "python3"
    },
    "language_info": {
      "codemirror_mode": {
        "name": "ipython",
        "version": 3
      },
      "file_extension": ".py",
      "mimetype": "text/x-python",
      "name": "python",
      "nbconvert_exporter": "python",
      "pygments_lexer": "ipython3",
      "version": "3.9.13"
    },
    "vscode": {
      "interpreter": {
        "hash": "a7065539a5005cd7d10b589a5c041477451dbd2dd0a47b047f7d67c4a869995b"
      }
    }
  },
  "nbformat": 4,
  "nbformat_minor": 0
}